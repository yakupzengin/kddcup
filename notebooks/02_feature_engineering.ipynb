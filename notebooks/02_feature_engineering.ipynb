{
 "cells": [
  {
   "cell_type": "markdown",
   "id": "7e551381",
   "metadata": {},
   "source": [
    "# KDD Cup 2022 ESCI Challenge - Feature Engineering\n",
    "\n",
    "This notebook focuses on creating features for the Shopping Queries Dataset. We'll develop:\n",
    "\n",
    "1. Basic text features (length, word count, etc.)\n",
    "2. Text similarity features (query-product matching)\n",
    "3. Statistical features (query frequency, product popularity)\n",
    "4. Advanced features (TF-IDF, embeddings)\n",
    "\n",
    "The goal is to create a comprehensive feature set that captures the relevance between queries and products."
   ]
  },
  {
   "cell_type": "code",
   "execution_count": null,
   "id": "0eeada74",
   "metadata": {},
   "outputs": [],
   "source": [
    "# Import required libraries\n",
    "import pandas as pd\n",
    "import numpy as np\n",
    "import matplotlib.pyplot as plt\n",
    "import seaborn as sns\n",
    "from sklearn.feature_extraction.text import TfidfVectorizer, CountVectorizer\n",
    "from sklearn.metrics.pairwise import cosine_similarity\n",
    "import textdistance\n",
    "import re\n",
    "import string\n",
    "from collections import Counter\n",
    "import warnings\n",
    "warnings.filterwarnings('ignore')\n",
    "\n",
    "print(\"Libraries imported successfully!\")"
   ]
  }
 ],
 "metadata": {
  "language_info": {
   "name": "python"
  }
 },
 "nbformat": 4,
 "nbformat_minor": 5
}

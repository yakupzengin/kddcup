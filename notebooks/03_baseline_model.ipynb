{
 "cells": [
  {
   "cell_type": "markdown",
   "id": "d4ce2774",
   "metadata": {},
   "source": [
    "# KDD Cup 2022 ESCI Challenge - Baseline Model\n",
    "\n",
    "This notebook implements a baseline LightGBM ranker for Task 1: Query-Product Ranking.\n",
    "\n",
    "## Objective\n",
    "Create a simple but effective baseline model that:\n",
    "1. Uses basic text features\n",
    "2. Implements proper ranking methodology\n",
    "3. Establishes performance benchmarks\n",
    "4. Provides foundation for improvements\n",
    "\n",
    "**Target Performance:** NDCG score around 0.2-0.3 for the first iteration"
   ]
  }
 ],
 "metadata": {
  "language_info": {
   "name": "python"
  }
 },
 "nbformat": 4,
 "nbformat_minor": 5
}

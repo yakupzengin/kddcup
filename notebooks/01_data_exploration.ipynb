{
 "cells": [
  {
   "cell_type": "markdown",
   "id": "cf95796c",
   "metadata": {},
   "source": [
    "# KDD Cup 2022 ESCI Challenge - Data Exploration\n",
    "\n",
    "This notebook explores the Shopping Queries Dataset for the ESCI Challenge. We'll analyze the structure, characteristics, and patterns in the data to understand:\n",
    "\n",
    "1. Dataset overview and statistics\n",
    "2. Query and product distributions\n",
    "3. ESCI label distributions\n",
    "4. Text characteristics\n",
    "5. Language and locale patterns\n",
    "\n",
    "**Dataset Files:**\n",
    "- `shopping_queries_dataset_examples.parquet` - Query-product pairs with relevance labels\n",
    "- `shopping_queries_dataset_products.parquet` - Product information (title, description, etc.)\n",
    "- `shopping_queries_dataset_sources.csv` - Query source information"
   ]
  },
  {
   "cell_type": "code",
   "execution_count": null,
   "id": "0304abd5",
   "metadata": {},
   "outputs": [],
   "source": [
    "# Import required libraries\n",
    "import pandas as pd\n",
    "import numpy as np\n",
    "import matplotlib.pyplot as plt\n",
    "import seaborn as sns\n",
    "import plotly.express as px\n",
    "import plotly.graph_objects as go\n",
    "from plotly.subplots import make_subplots\n",
    "import warnings\n",
    "warnings.filterwarnings('ignore')\n",
    "\n",
    "# Set display options\n",
    "pd.set_option('display.max_columns', None)\n",
    "pd.set_option('display.max_rows', 100)\n",
    "\n",
    "# Configure plotting\n",
    "plt.style.use('default')\n",
    "sns.set_palette(\"husl\")\n",
    "\n",
    "print(\"Libraries imported successfully!\")"
   ]
  },
  {
   "cell_type": "markdown",
   "id": "4d80d829",
   "metadata": {},
   "source": [
    "## 1. Load Data Files\n",
    "\n",
    "Let's start by loading the three main data files and understanding their structure."
   ]
  },
  {
   "cell_type": "code",
   "execution_count": null,
   "id": "aad4960c",
   "metadata": {},
   "outputs": [],
   "source": [
    "# Load the data files\n",
    "try:\n",
    "    # Define file paths\n",
    "    data_path = \"../data/raw/\"\n",
    "    \n",
    "    # Load examples data\n",
    "    df_examples = pd.read_parquet(f\"{data_path}shopping_queries_dataset_examples.parquet\")\n",
    "    print(f\"✓ Examples data loaded: {df_examples.shape}\")\n",
    "    \n",
    "    # Load products data\n",
    "    df_products = pd.read_parquet(f\"{data_path}shopping_queries_dataset_products.parquet\")\n",
    "    print(f\"✓ Products data loaded: {df_products.shape}\")\n",
    "    \n",
    "    # Load sources data\n",
    "    df_sources = pd.read_csv(f\"{data_path}shopping_queries_dataset_sources.csv\")\n",
    "    print(f\"✓ Sources data loaded: {df_sources.shape}\")\n",
    "    \n",
    "    print(\"\\nAll data files loaded successfully!\")\n",
    "    \n",
    "except FileNotFoundError as e:\n",
    "    print(f\"❌ Error: {e}\")\n",
    "    print(\"Please ensure the data files are in the correct directory:\")\n",
    "    print(\"- data/raw/shopping_queries_dataset_examples.parquet\")\n",
    "    print(\"- data/raw/shopping_queries_dataset_products.parquet\") \n",
    "    print(\"- data/raw/shopping_queries_dataset_sources.csv\")"
   ]
  },
  {
   "cell_type": "markdown",
   "id": "bb10eb47",
   "metadata": {},
   "source": [
    "## 2. Dataset Overview\n",
    "\n",
    "Let's examine the structure and basic statistics of each dataset."
   ]
  },
  {
   "cell_type": "code",
   "execution_count": null,
   "id": "f292e509",
   "metadata": {},
   "outputs": [],
   "source": [
    "# Examine examples dataset\n",
    "print(\"=\" * 60)\n",
    "print(\"EXAMPLES DATASET (df_examples)\")\n",
    "print(\"=\" * 60)\n",
    "print(f\"Shape: {df_examples.shape}\")\n",
    "print(f\"Columns: {list(df_examples.columns)}\")\n",
    "print(\"\\nFirst few rows:\")\n",
    "display(df_examples.head(3))\n",
    "print(\"\\nDataset info:\")\n",
    "print(df_examples.info())"
   ]
  },
  {
   "cell_type": "code",
   "execution_count": null,
   "id": "77c70e3b",
   "metadata": {},
   "outputs": [],
   "source": [
    "# Examine products dataset\n",
    "print(\"\\n\" + \"=\" * 60)\n",
    "print(\"PRODUCTS DATASET (df_products)\")\n",
    "print(\"=\" * 60)\n",
    "print(f\"Shape: {df_products.shape}\")\n",
    "print(f\"Columns: {list(df_products.columns)}\")\n",
    "print(\"\\nFirst few rows:\")\n",
    "display(df_products.head(3))\n",
    "print(\"\\nDataset info:\")\n",
    "print(df_products.info())"
   ]
  },
  {
   "cell_type": "code",
   "execution_count": null,
   "id": "0916e1f5",
   "metadata": {},
   "outputs": [],
   "source": [
    "# Examine sources dataset\n",
    "print(\"\\n\" + \"=\" * 60)\n",
    "print(\"SOURCES DATASET (df_sources)\")\n",
    "print(\"=\" * 60)\n",
    "print(f\"Shape: {df_sources.shape}\")\n",
    "print(f\"Columns: {list(df_sources.columns)}\")\n",
    "print(\"\\nFirst few rows:\")\n",
    "display(df_sources.head(3))\n",
    "print(\"\\nDataset info:\")\n",
    "print(df_sources.info())"
   ]
  },
  {
   "cell_type": "markdown",
   "id": "87bb749c",
   "metadata": {},
   "source": [
    "## 3. ESCI Label Analysis\n",
    "\n",
    "Let's analyze the distribution of ESCI labels (Exact, Substitute, Complement, Irrelevant) across the dataset."
   ]
  },
  {
   "cell_type": "code",
   "execution_count": null,
   "id": "8f4608ea",
   "metadata": {},
   "outputs": [],
   "source": [
    "# ESCI label distribution\n",
    "print(\"ESCI Label Distribution\")\n",
    "print(\"=\" * 30)\n",
    "esci_counts = df_examples['esci_label'].value_counts().sort_index()\n",
    "print(esci_counts)\n",
    "print(f\"\\nTotal examples: {len(df_examples):,}\")\n",
    "\n",
    "# Create visualization\n",
    "fig, (ax1, ax2) = plt.subplots(1, 2, figsize=(15, 5))\n",
    "\n",
    "# Bar plot\n",
    "esci_counts.plot(kind='bar', ax=ax1, color='skyblue', alpha=0.8)\n",
    "ax1.set_title('ESCI Label Distribution')\n",
    "ax1.set_xlabel('ESCI Label')\n",
    "ax1.set_ylabel('Count')\n",
    "ax1.tick_params(axis='x', rotation=0)\n",
    "\n",
    "# Add percentage labels on bars\n",
    "for i, v in enumerate(esci_counts.values):\n",
    "    ax1.text(i, v + 1000, f'{v/len(df_examples)*100:.1f}%', \n",
    "             ha='center', va='bottom')\n",
    "\n",
    "# Pie chart\n",
    "ax2.pie(esci_counts.values, labels=esci_counts.index, autopct='%1.1f%%', \n",
    "        startangle=90, colors=['#ff9999', '#66b3ff', '#99ff99', '#ffcc99'])\n",
    "ax2.set_title('ESCI Label Distribution (Percentage)')\n",
    "\n",
    "plt.tight_layout()\n",
    "plt.show()\n",
    "\n",
    "# ESCI label interpretation\n",
    "print(\"\\nESCI Label Interpretation:\")\n",
    "print(\"E (Exact): Product matches the query exactly\")\n",
    "print(\"S (Substitute): Product is a substitute for what the user is looking for\")\n",
    "print(\"C (Complement): Product complements what the user is looking for\")\n",
    "print(\"I (Irrelevant): Product is irrelevant to the query\")"
   ]
  }
 ],
 "metadata": {
  "language_info": {
   "name": "python"
  }
 },
 "nbformat": 4,
 "nbformat_minor": 5
}
